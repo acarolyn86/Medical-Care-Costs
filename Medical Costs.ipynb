{
 "cells": [
  {
   "cell_type": "markdown",
   "metadata": {},
   "source": [
    "# Medical Care Costs Analysis\n",
    "\n",
    "Can a person's healthcare costs be predicted using patient demographics? This project will attempt to answer this, using a simulated dataset.\n",
    "\n",
    "Here are the questions we are interested in answering for this data:\n",
    "1. What is the breakdown in healthcare costs by: age, gender, smoking status, and BMI?\n",
    "2. Using regression, can the cost of healthcare insurance be predicted using the demographics of the insured?\n",
    "\n",
    "Data Source:https://github.com/stedy/Machine-Learning-with-R-datasets"
   ]
  },
  {
   "cell_type": "markdown",
   "metadata": {},
   "source": [
    "First, let's clean the data. The steps we'll take include: investigating and filling in or dropping null values, checking for duplicates, and deleting any outliers or other data points that don't make sense."
   ]
  },
  {
   "cell_type": "code",
   "execution_count": 1,
   "metadata": {},
   "outputs": [],
   "source": [
    "#Import relevant libraries:\n",
    "import pandas as pd\n",
    "import numpy as np\n",
    "import matplotlib.pyplot as plt\n",
    "import seaborn as sns\n",
    "%matplotlib inline"
   ]
  },
  {
   "cell_type": "code",
   "execution_count": 2,
   "metadata": {},
   "outputs": [
    {
     "name": "stdout",
     "output_type": "stream",
     "text": [
      "<class 'pandas.core.frame.DataFrame'>\n",
      "RangeIndex: 1338 entries, 0 to 1337\n",
      "Data columns (total 7 columns):\n",
      "age         1338 non-null int64\n",
      "sex         1338 non-null object\n",
      "bmi         1338 non-null float64\n",
      "children    1338 non-null int64\n",
      "smoker      1338 non-null object\n",
      "region      1338 non-null object\n",
      "charges     1338 non-null float64\n",
      "dtypes: float64(2), int64(2), object(3)\n",
      "memory usage: 73.3+ KB\n"
     ]
    }
   ],
   "source": [
    "#Reading in the data and looking at the dataframe information:\n",
    "insurance = pd.read_csv('insurance.csv')\n",
    "insurance.info()"
   ]
  },
  {
   "cell_type": "code",
   "execution_count": 3,
   "metadata": {},
   "outputs": [
    {
     "data": {
      "text/html": [
       "<div>\n",
       "<style scoped>\n",
       "    .dataframe tbody tr th:only-of-type {\n",
       "        vertical-align: middle;\n",
       "    }\n",
       "\n",
       "    .dataframe tbody tr th {\n",
       "        vertical-align: top;\n",
       "    }\n",
       "\n",
       "    .dataframe thead th {\n",
       "        text-align: right;\n",
       "    }\n",
       "</style>\n",
       "<table border=\"1\" class=\"dataframe\">\n",
       "  <thead>\n",
       "    <tr style=\"text-align: right;\">\n",
       "      <th></th>\n",
       "      <th>age</th>\n",
       "      <th>sex</th>\n",
       "      <th>bmi</th>\n",
       "      <th>children</th>\n",
       "      <th>smoker</th>\n",
       "      <th>region</th>\n",
       "      <th>charges</th>\n",
       "    </tr>\n",
       "  </thead>\n",
       "  <tbody>\n",
       "    <tr>\n",
       "      <th>0</th>\n",
       "      <td>19</td>\n",
       "      <td>female</td>\n",
       "      <td>27.900</td>\n",
       "      <td>0</td>\n",
       "      <td>yes</td>\n",
       "      <td>southwest</td>\n",
       "      <td>16884.92400</td>\n",
       "    </tr>\n",
       "    <tr>\n",
       "      <th>1</th>\n",
       "      <td>18</td>\n",
       "      <td>male</td>\n",
       "      <td>33.770</td>\n",
       "      <td>1</td>\n",
       "      <td>no</td>\n",
       "      <td>southeast</td>\n",
       "      <td>1725.55230</td>\n",
       "    </tr>\n",
       "    <tr>\n",
       "      <th>2</th>\n",
       "      <td>28</td>\n",
       "      <td>male</td>\n",
       "      <td>33.000</td>\n",
       "      <td>3</td>\n",
       "      <td>no</td>\n",
       "      <td>southeast</td>\n",
       "      <td>4449.46200</td>\n",
       "    </tr>\n",
       "    <tr>\n",
       "      <th>3</th>\n",
       "      <td>33</td>\n",
       "      <td>male</td>\n",
       "      <td>22.705</td>\n",
       "      <td>0</td>\n",
       "      <td>no</td>\n",
       "      <td>northwest</td>\n",
       "      <td>21984.47061</td>\n",
       "    </tr>\n",
       "    <tr>\n",
       "      <th>4</th>\n",
       "      <td>32</td>\n",
       "      <td>male</td>\n",
       "      <td>28.880</td>\n",
       "      <td>0</td>\n",
       "      <td>no</td>\n",
       "      <td>northwest</td>\n",
       "      <td>3866.85520</td>\n",
       "    </tr>\n",
       "  </tbody>\n",
       "</table>\n",
       "</div>"
      ],
      "text/plain": [
       "   age     sex     bmi  children smoker     region      charges\n",
       "0   19  female  27.900         0    yes  southwest  16884.92400\n",
       "1   18    male  33.770         1     no  southeast   1725.55230\n",
       "2   28    male  33.000         3     no  southeast   4449.46200\n",
       "3   33    male  22.705         0     no  northwest  21984.47061\n",
       "4   32    male  28.880         0     no  northwest   3866.85520"
      ]
     },
     "execution_count": 3,
     "metadata": {},
     "output_type": "execute_result"
    }
   ],
   "source": [
    "#Taking a look at the top 5 columns:\n",
    "insurance.head()"
   ]
  },
  {
   "cell_type": "markdown",
   "metadata": {},
   "source": [
    "Based on this initial look at the dataset, there are no null values to drop or fill in. Are there duplicates?"
   ]
  },
  {
   "cell_type": "code",
   "execution_count": 4,
   "metadata": {},
   "outputs": [
    {
     "data": {
      "text/html": [
       "<div>\n",
       "<style scoped>\n",
       "    .dataframe tbody tr th:only-of-type {\n",
       "        vertical-align: middle;\n",
       "    }\n",
       "\n",
       "    .dataframe tbody tr th {\n",
       "        vertical-align: top;\n",
       "    }\n",
       "\n",
       "    .dataframe thead th {\n",
       "        text-align: right;\n",
       "    }\n",
       "</style>\n",
       "<table border=\"1\" class=\"dataframe\">\n",
       "  <thead>\n",
       "    <tr style=\"text-align: right;\">\n",
       "      <th></th>\n",
       "      <th>age</th>\n",
       "      <th>sex</th>\n",
       "      <th>bmi</th>\n",
       "      <th>children</th>\n",
       "      <th>smoker</th>\n",
       "      <th>region</th>\n",
       "      <th>charges</th>\n",
       "    </tr>\n",
       "  </thead>\n",
       "  <tbody>\n",
       "    <tr>\n",
       "      <th>195</th>\n",
       "      <td>19</td>\n",
       "      <td>male</td>\n",
       "      <td>30.59</td>\n",
       "      <td>0</td>\n",
       "      <td>no</td>\n",
       "      <td>northwest</td>\n",
       "      <td>1639.5631</td>\n",
       "    </tr>\n",
       "    <tr>\n",
       "      <th>581</th>\n",
       "      <td>19</td>\n",
       "      <td>male</td>\n",
       "      <td>30.59</td>\n",
       "      <td>0</td>\n",
       "      <td>no</td>\n",
       "      <td>northwest</td>\n",
       "      <td>1639.5631</td>\n",
       "    </tr>\n",
       "  </tbody>\n",
       "</table>\n",
       "</div>"
      ],
      "text/plain": [
       "     age   sex    bmi  children smoker     region    charges\n",
       "195   19  male  30.59         0     no  northwest  1639.5631\n",
       "581   19  male  30.59         0     no  northwest  1639.5631"
      ]
     },
     "execution_count": 4,
     "metadata": {},
     "output_type": "execute_result"
    }
   ],
   "source": [
    "insurance.loc[insurance.duplicated(keep=False),:]"
   ]
  },
  {
   "cell_type": "code",
   "execution_count": 5,
   "metadata": {},
   "outputs": [],
   "source": [
    "#Removing one of the duplicate rows:\n",
    "insurance.drop_duplicates(keep='first',inplace=True)"
   ]
  },
  {
   "cell_type": "markdown",
   "metadata": {},
   "source": [
    "There were were two rows which looked to be duplicates. \n",
    "\n",
    "Next, we'll check for any other possibly erroneous data. In this dataset, this could be ages, or combinations of ages and children, that don't make sense."
   ]
  },
  {
   "cell_type": "code",
   "execution_count": 6,
   "metadata": {},
   "outputs": [
    {
     "data": {
      "text/plain": [
       "count    1337.000000\n",
       "mean       39.222139\n",
       "std        14.044333\n",
       "min        18.000000\n",
       "25%        27.000000\n",
       "50%        39.000000\n",
       "75%        51.000000\n",
       "max        64.000000\n",
       "Name: age, dtype: float64"
      ]
     },
     "execution_count": 6,
     "metadata": {},
     "output_type": "execute_result"
    }
   ],
   "source": [
    "#Checking the age column:\n",
    "insurance.age.describe()"
   ]
  },
  {
   "cell_type": "markdown",
   "metadata": {},
   "source": [
    "The minimum age is 18 and the maximum is 64. These ages are reasonable. \n",
    "\n",
    "Now let's check for combinations of ages and children:"
   ]
  },
  {
   "cell_type": "code",
   "execution_count": 7,
   "metadata": {},
   "outputs": [
    {
     "data": {
      "text/plain": [
       "count    1337.000000\n",
       "mean        1.095737\n",
       "std         1.205571\n",
       "min         0.000000\n",
       "25%         0.000000\n",
       "50%         1.000000\n",
       "75%         2.000000\n",
       "max         5.000000\n",
       "Name: children, dtype: float64"
      ]
     },
     "execution_count": 7,
     "metadata": {},
     "output_type": "execute_result"
    }
   ],
   "source": [
    "#Checking the children column:\n",
    "insurance.children.describe()"
   ]
  },
  {
   "cell_type": "code",
   "execution_count": 8,
   "metadata": {},
   "outputs": [
    {
     "data": {
      "text/html": [
       "<div>\n",
       "<style scoped>\n",
       "    .dataframe tbody tr th:only-of-type {\n",
       "        vertical-align: middle;\n",
       "    }\n",
       "\n",
       "    .dataframe tbody tr th {\n",
       "        vertical-align: top;\n",
       "    }\n",
       "\n",
       "    .dataframe thead th {\n",
       "        text-align: right;\n",
       "    }\n",
       "</style>\n",
       "<table border=\"1\" class=\"dataframe\">\n",
       "  <thead>\n",
       "    <tr style=\"text-align: right;\">\n",
       "      <th></th>\n",
       "      <th>age</th>\n",
       "      <th>sex</th>\n",
       "      <th>bmi</th>\n",
       "      <th>children</th>\n",
       "      <th>smoker</th>\n",
       "      <th>region</th>\n",
       "      <th>charges</th>\n",
       "    </tr>\n",
       "  </thead>\n",
       "  <tbody>\n",
       "    <tr>\n",
       "      <th>166</th>\n",
       "      <td>20</td>\n",
       "      <td>female</td>\n",
       "      <td>37.000</td>\n",
       "      <td>5</td>\n",
       "      <td>no</td>\n",
       "      <td>southwest</td>\n",
       "      <td>4830.63000</td>\n",
       "    </tr>\n",
       "    <tr>\n",
       "      <th>984</th>\n",
       "      <td>20</td>\n",
       "      <td>male</td>\n",
       "      <td>30.115</td>\n",
       "      <td>5</td>\n",
       "      <td>no</td>\n",
       "      <td>northeast</td>\n",
       "      <td>4915.05985</td>\n",
       "    </tr>\n",
       "    <tr>\n",
       "      <th>32</th>\n",
       "      <td>19</td>\n",
       "      <td>female</td>\n",
       "      <td>28.600</td>\n",
       "      <td>5</td>\n",
       "      <td>no</td>\n",
       "      <td>southwest</td>\n",
       "      <td>4687.79700</td>\n",
       "    </tr>\n",
       "    <tr>\n",
       "      <th>754</th>\n",
       "      <td>24</td>\n",
       "      <td>male</td>\n",
       "      <td>33.630</td>\n",
       "      <td>4</td>\n",
       "      <td>no</td>\n",
       "      <td>northeast</td>\n",
       "      <td>17128.42608</td>\n",
       "    </tr>\n",
       "    <tr>\n",
       "      <th>494</th>\n",
       "      <td>21</td>\n",
       "      <td>male</td>\n",
       "      <td>25.700</td>\n",
       "      <td>4</td>\n",
       "      <td>yes</td>\n",
       "      <td>southwest</td>\n",
       "      <td>17942.10600</td>\n",
       "    </tr>\n",
       "    <tr>\n",
       "      <th>1095</th>\n",
       "      <td>18</td>\n",
       "      <td>female</td>\n",
       "      <td>31.350</td>\n",
       "      <td>4</td>\n",
       "      <td>no</td>\n",
       "      <td>northeast</td>\n",
       "      <td>4561.18850</td>\n",
       "    </tr>\n",
       "  </tbody>\n",
       "</table>\n",
       "</div>"
      ],
      "text/plain": [
       "      age     sex     bmi  children smoker     region      charges\n",
       "166    20  female  37.000         5     no  southwest   4830.63000\n",
       "984    20    male  30.115         5     no  northeast   4915.05985\n",
       "32     19  female  28.600         5     no  southwest   4687.79700\n",
       "754    24    male  33.630         4     no  northeast  17128.42608\n",
       "494    21    male  25.700         4    yes  southwest  17942.10600\n",
       "1095   18  female  31.350         4     no  northeast   4561.18850"
      ]
     },
     "execution_count": 8,
     "metadata": {},
     "output_type": "execute_result"
    }
   ],
   "source": [
    "#Checking out the rows where the number of children is high and the \n",
    "#age is low:\n",
    "insurance.loc[(insurance.children >=4) & (insurance.age < 25),:].sort_values(by=['children','age'], ascending=False)"
   ]
  },
  {
   "cell_type": "markdown",
   "metadata": {},
   "source": [
    "There are some combinations of age and number of children that are questionable, although in the realm of possibility. Can we consider these to be outliers? Let's plot a boxplot of age versus number of children:"
   ]
  },
  {
   "cell_type": "code",
   "execution_count": 9,
   "metadata": {},
   "outputs": [
    {
     "data": {
      "image/png": "[encoded data removed]",
      "text/plain": [
       "<Figure size 432x288 with 1 Axes>"
      ]
     },
     "metadata": {
      "needs_background": "light"
     },
     "output_type": "display_data"
    }
   ],
   "source": [
    "#plotting the boxplot\n",
    "sns.boxplot(x='children',y='age',data=insurance)\n",
    "plt.title('Distribution of Age per Number of Children')\n",
    "plt.show()"
   ]
  },
  {
   "cell_type": "markdown",
   "metadata": {},
   "source": [
    "According to the boxplot above, there are no true outliers in the data. However, as this data is still unlikely to be true given the combinations involved, we will remove anyone aged 20 and under with 4 or 5 children:"
   ]
  },
  {
   "cell_type": "code",
   "execution_count": 10,
   "metadata": {},
   "outputs": [],
   "source": [
    "#removing data from the dataset:\n",
    "insurance = insurance.loc[~((insurance.age<21) & (insurance.children >=4)),:]"
   ]
  },
  {
   "cell_type": "markdown",
   "metadata": {},
   "source": [
    "Let's begin to answer some of the questions posed at the start of the project. What insights can we gain by splitting the cost information amongst different demographics? Specifically, age, gender, smoking status, and BMI?\n",
    "\n",
    "The first demographic we'll examine is sex versus medical charges."
   ]
  },
  {
   "cell_type": "code",
   "execution_count": 11,
   "metadata": {},
   "outputs": [
    {
     "data": {
      "image/png": "[encoded data removed]",
      "text/plain": [
       "<Figure size 432x288 with 1 Axes>"
      ]
     },
     "metadata": {
      "needs_background": "light"
     },
     "output_type": "display_data"
    }
   ],
   "source": [
    "#Creating a graph of overall charges separated by gender:\n",
    "sns.barplot(x='sex',y='charges',data=insurance)\n",
    "plt.title('Medical Costs by Gender')\n",
    "plt.show()"
   ]
  },
  {
   "cell_type": "code",
   "execution_count": 12,
   "metadata": {},
   "outputs": [
    {
     "data": {
      "image/png": "[encoded data removed]",
      "text/plain": [
       "<Figure size 430.5x360 with 1 Axes>"
      ]
     },
     "metadata": {
      "needs_background": "light"
     },
     "output_type": "display_data"
    }
   ],
   "source": [
    "#Breaking this down by smoking status:\n",
    "sns.catplot(x='smoker',y='charges',hue='sex',data=insurance,kind='bar')\n",
    "plt.title('Smokers vs Nonsmokers Medical Costs, by Gender')\n",
    "plt.show()"
   ]
  },
  {
   "cell_type": "markdown",
   "metadata": {},
   "source": [
    "Based on the above graphs, males have overall more healthare costs than females. However, this is not necessarily the case if we break it further down into smokers versus nonsmokers. When we do that, women that don't smoke actually have higher healthcare costs than men who don't. But amongst smokers, men still run up a higher tab.\n",
    "\n",
    "Next, let's examine the healthare costs by BMI. Using the official US National Institute of Health's definitions of body fat estimation (available on https://www.nhlbi.nih.gov/health/educational/lose_wt/risk.htm), each person will be categorized as either Underweight, Normal, Overweight, or Obese."
   ]
  },
  {
   "cell_type": "code",
   "execution_count": 13,
   "metadata": {},
   "outputs": [
    {
     "data": {
      "image/png": "[encoded data removed]",
      "text/plain": [
       "<Figure size 432x288 with 1 Axes>"
      ]
     },
     "metadata": {
      "needs_background": "light"
     },
     "output_type": "display_data"
    }
   ],
   "source": [
    "#Creating a classifying function:\n",
    "def classify(bmi):\n",
    "    if bmi < 18.5:\n",
    "        return 'Underweight'\n",
    "    elif bmi >= 18.5 and bmi <25:\n",
    "        return 'Normal'\n",
    "    elif bmi >= 25 and bmi <30:\n",
    "        return 'Overweight'\n",
    "    else:\n",
    "        return 'Obesity'\n",
    "\n",
    "#Applying the classifying function to the BMI column:\n",
    "bmi_class = insurance.bmi.apply(lambda x: classify(x))\n",
    "\n",
    "#Graphing the BMI against cost of healthcare:\n",
    "sns.barplot(x=bmi_class, y=insurance.charges)\n",
    "plt.title('BMI vs Medical Costs')\n",
    "plt.show()\n"
   ]
  },
  {
   "cell_type": "markdown",
   "metadata": {},
   "source": [
    "Based on the graph of BMI versus healthcare costs, those in the Obesity category, or those who have a BMI greater or equal to 30, incur the highest healthcare costs. Those in the underweight category, meaning a BMI less than 18.5, incurred the least.\n",
    "\n",
    "The last data I will graph is age verus healthcare costs:"
   ]
  },
  {
   "cell_type": "code",
   "execution_count": 14,
   "metadata": {},
   "outputs": [
    {
     "data": {
      "image/png": "[encoded data removed]",
      "text/plain": [
       "<Figure size 432x288 with 1 Axes>"
      ]
     },
     "metadata": {
      "needs_background": "light"
     },
     "output_type": "display_data"
    }
   ],
   "source": [
    "sns.scatterplot(x='age',y='charges',data=insurance, hue='sex')\n",
    "plt.title('Age vs Medical Costs')\n",
    "plt.show()"
   ]
  },
  {
   "cell_type": "markdown",
   "metadata": {},
   "source": [
    "The scatterplot shows 3 distinct, parallel regions where it seems that insurance charges might have a positive linear correlation with age. \n",
    "\n",
    "In the next section, we will use two regression types to estimate medical costs from the given demographics, and compare to see which works the best. We will use linear regression and decision tree.\n",
    "\n",
    "First we will prepare the dataframe for regression by making sure all feature columns are numerical or one hot encoded (a series of 1's and 0's). Then we'll examine the correlation between all the features and the charges column, before creating the regression models."
   ]
  },
  {
   "cell_type": "code",
   "execution_count": 15,
   "metadata": {},
   "outputs": [],
   "source": [
    "#Creating dummy variables for the feature columns:\n",
    "sex_d = pd.get_dummies(insurance.sex)\n",
    "smoker_d = pd.get_dummies(insurance.smoker, prefix='smoke')\n",
    "region_d = pd.get_dummies(insurance.region)\n",
    "bmi_d = pd.get_dummies(bmi_class)\n",
    "\n",
    "#concatenating them to the dataframe:\n",
    "insurance = pd.concat([sex_d, smoker_d, region_d, bmi_d, insurance], axis=1)\n",
    "\n",
    "#Dropping the original columns sex, smoker, and region:\n",
    "insurance.drop(columns=['sex','smoker','region','bmi'], inplace=True)"
   ]
  },
  {
   "cell_type": "code",
   "execution_count": 16,
   "metadata": {},
   "outputs": [
    {
     "data": {
      "text/plain": [
       "female        -0.057075\n",
       "male           0.057075\n",
       "smoke_no      -0.787052\n",
       "smoke_yes      0.787052\n",
       "northeast      0.007244\n",
       "northwest     -0.039939\n",
       "southeast      0.072379\n",
       "southwest     -0.042515\n",
       "Normal        -0.107698\n",
       "Obesity        0.201716\n",
       "Overweight    -0.121030\n",
       "Underweight   -0.045359\n",
       "age            0.296421\n",
       "children       0.074902\n",
       "charges        1.000000\n",
       "Name: charges, dtype: float64"
      ]
     },
     "execution_count": 16,
     "metadata": {},
     "output_type": "execute_result"
    }
   ],
   "source": [
    "#Showing the correlation between features and the charges column:\n",
    "insurance.corr().loc['charges',:]"
   ]
  },
  {
   "cell_type": "markdown",
   "metadata": {},
   "source": [
    "There is a strong correlation between insurance charges and smoking, and to a lesser extent age and BMI. Interestingly, the sex, region and children columns do not seem to correlate much, if at all. In order to see if this makes a difference, first we'll run the regression models with all feature columns. Once we've decided on one regression model, we'll take out sex, region and children to see if that improves performance.\n",
    "\n",
    "Now that the feature columns have been prepared, let's create the linear regression model:"
   ]
  },
  {
   "cell_type": "code",
   "execution_count": 17,
   "metadata": {},
   "outputs": [
    {
     "name": "stdout",
     "output_type": "stream",
     "text": [
      "Intercept: 8637.869744527343\n",
      "Slope: [-4.66945883e+00  4.66945883e+00 -1.17999459e+04  1.17999459e+04\n",
      "  3.79284616e+02  3.13771581e+02 -5.15995562e+02 -1.77060636e+02\n",
      " -8.49195597e+02  3.28649986e+03 -2.36604774e+02 -2.20069948e+03\n",
      "  2.56419442e+02]\n"
     ]
    }
   ],
   "source": [
    "#Importing the relevant libraries:\n",
    "from sklearn.linear_model import LinearRegression\n",
    "from sklearn.model_selection import train_test_split\n",
    "\n",
    "model_lr = LinearRegression() #instantiating Linear Regression model\n",
    "X = insurance.iloc[:,:-2] #assigning the features to X\n",
    "y = insurance.iloc[:,-1]  #assigning the charges column to y\n",
    "\n",
    "#defining the training and testing set in the data\n",
    "X_train, X_test, y_train, y_test = train_test_split(X,y, train_size=0.7,random_state=1)\n",
    "\n",
    "#fitting the model to the training set\n",
    "model_lr.fit(X_train,y_train)\n",
    "\n",
    "#Determining the linear model's coefficients:\n",
    "intercept = model_lr.intercept_\n",
    "slope = model_lr.coef_\n",
    "print('Intercept:',intercept)\n",
    "print('Slope:',slope)\n",
    "\n",
    "#Using the model to predict insurance charges given the test data set:\n",
    "pred_lr = model_lr.predict(X_test)"
   ]
  },
  {
   "cell_type": "markdown",
   "metadata": {},
   "source": [
    "We now have the coefficients for our linear model of the form y = b0 + b1x1 + b2x2 +...etc, where b0 is the Intercept, and the Slope array are the x coefficients.\n",
    "\n",
    "Let's implement the model again, but this time taking out the features we suspect do not correlate to costs."
   ]
  },
  {
   "cell_type": "code",
   "execution_count": 18,
   "metadata": {},
   "outputs": [
    {
     "name": "stdout",
     "output_type": "stream",
     "text": [
      "Intercept-less features: 8637.869744527343\n",
      "Slope-less features: [-4.66945883e+00  4.66945883e+00 -1.17999459e+04  1.17999459e+04\n",
      "  3.79284616e+02  3.13771581e+02 -5.15995562e+02 -1.77060636e+02\n",
      " -8.49195597e+02  3.28649986e+03 -2.36604774e+02 -2.20069948e+03\n",
      "  2.56419442e+02]\n"
     ]
    }
   ],
   "source": [
    "#Dropping columns for the second model:\n",
    "insurance2 = insurance.drop(['male','female','children','northeast','northwest','southeast','southwest'],\n",
    "              axis=1)\n",
    "\n",
    "model_lr2 = LinearRegression() #instantiating Linear Regression model\n",
    "X2 = insurance2.iloc[:,:-2] #assigning the features to X\n",
    "y2 = insurance2.iloc[:,-1]  #assigning the charges column to y\n",
    "\n",
    "#defining the training and testing set in the data\n",
    "X_train2, X_test2, y_train2, y_test2 = train_test_split(X2,y2, train_size=0.7,random_state=1)\n",
    "\n",
    "#fitting the model to the training set\n",
    "model_lr2.fit(X_train2,y_train2)\n",
    "\n",
    "#Determining the linear model's coefficients:\n",
    "intercept2 = model_lr2.intercept_\n",
    "slope2 = model_lr2.coef_\n",
    "print('Intercept-less features:',intercept)\n",
    "print('Slope-less features:',slope)\n",
    "\n",
    "#Using the model to predict insurance charges given the test data set:\n",
    "pred_lr2 = model_lr2.predict(X_test2)"
   ]
  },
  {
   "cell_type": "markdown",
   "metadata": {},
   "source": [
    "We've run the model twice, but which one gives a better result?  In order to determine this, we'll run two different metrics: mean_squared_error and R2 score.\n",
    "\n",
    "Mean_squared_error is the average of the errors squared. That is, the difference between the actual values and the predicted values. It can be used to compare regression models, as a lower MSE usually means the model has performed better.\n",
    "\n",
    "R2, also called the coefficient of determination, measures how close data is to the regression line. It is always a number between 0 and 1, with 1 indicating the model perfectly captures the data. A score of 0 would indicate the model did not fit the data at all."
   ]
  },
  {
   "cell_type": "code",
   "execution_count": 19,
   "metadata": {},
   "outputs": [
    {
     "name": "stdout",
     "output_type": "stream",
     "text": [
      "Root Mean Squared of first run:  6094.079669156779\n",
      "Root Mean Squared of second run:  7131.017680044769\n",
      "R2 score first run: 0.6467576708878889\n",
      "R2 score second run: 0.46730856590500236\n"
     ]
    }
   ],
   "source": [
    "#importing metrics libraries\n",
    "from sklearn.metrics import mean_squared_error\n",
    "from sklearn.metrics import r2_score\n",
    "\n",
    "#RMSE of the first model\n",
    "rmse_lr = np.sqrt(mean_squared_error(pred_lr,y_test)) \n",
    "print('Root Mean Squared of first run: ',rmse_lr)\n",
    "\n",
    "#RMSE of the second model\n",
    "rmse_lr2 = np.sqrt(mean_squared_error(pred_lr2,y_test)) \n",
    "print('Root Mean Squared of second run: ',rmse_lr2)\n",
    "\n",
    "#R2 score of the first model\n",
    "print('R2 score first run:',r2_score(pred_lr,y_test))\n",
    "\n",
    "#R2 score of the second model:\n",
    "print('R2 score second run:',r2_score(pred_lr2,y_test))"
   ]
  },
  {
   "cell_type": "markdown",
   "metadata": {},
   "source": [
    "Based on these metrics, the first linear regression model, where we used all available features, outperformed the second model. It had a lower root mean squared error and a higher R2, both indicating a better fit for the data. In fact, the R2 score was almost 20% higher, at 64.67%.\n",
    "\n",
    "This concludes our analysis of healthcare costs from a simulated data set. We can see that these healthcare costs are heavily influenced by gender, smoking status, and BMI. The total cost of men's healthcare was higher than women's, and smokers' was much higher than nonsmokers. When we divided BMI into the National Insitute of Health categories, we determined that people in the obese category had higher costs than in the underweight category."
   ]
  }
 ],
 "metadata": {
  "kernelspec": {
   "display_name": "Python 3",
   "language": "python",
   "name": "python3"
  },
  "language_info": {
   "codemirror_mode": {
    "name": "ipython",
    "version": 3
   },
   "file_extension": ".py",
   "mimetype": "text/x-python",
   "name": "python",
   "nbconvert_exporter": "python",
   "pygments_lexer": "ipython3",
   "version": "3.7.6"
  }
 },
 "nbformat": 4,
 "nbformat_minor": 2
}
